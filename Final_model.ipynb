{
 "cells": [
  {
   "cell_type": "markdown",
   "metadata": {},
   "source": [
    "# DDoS Network Attack prediction"
   ]
  },
  {
   "cell_type": "markdown",
   "metadata": {},
   "source": [
    "### Introduction"
   ]
  },
  {
   "cell_type": "markdown",
   "metadata": {},
   "source": [
    "\n",
    "\n",
    "DDoS network attacks are malicious attempt to disrupt the normal traffic of a targeted server or network by overwhelming the target with flooding of Internet network traffic,This type of network attacks are one of the most powerful hacking techniques over the internet, However most basic weapons the hacker uses is to take down or crash the server/website is by flooding the network traffic but there are various subcategories of this attacks and each category defines the way a hacker tries to intrude into the network, We are looking for an approach that at first stage will if predict is there an network attack or traffic is normal and if there is a network attack it will predict the categorie the network attacks through ML model\n",
    "\n",
    "About the Dataset:-\n",
    "\n",
    "The dataset contains around 2,100,000 labelled network logs from various types of network attacks. The types of network attacks logged are: UDP-Flood, Smurf, SIDDOS, HTTP-FLOOD, & Normal traffic.\n",
    "\n",
    "Attribute Information:\n",
    "\n",
    "Most of the attribute are (Numerical,float) PKT_TYPE,NODE_NAME_FROM,NODE_NAME_TO,FLAG (Categorical,bytes)\n",
    "\n",
    "class attribute -- 0= Normal traffic,1 = UDP-Flood,2= Smurf,3= SIDDOS,4= HTTP-FLOOD\n"
   ]
  },
  {
   "cell_type": "markdown",
   "metadata": {},
   "source": [
    "### Business Problem -"
   ]
  },
  {
   "cell_type": "markdown",
   "metadata": {},
   "source": [
    "\n",
    "While troubleshooting the incidents Network Engineers face many repeated issues which are mainly categorised into few type attacks. Most of the attacks flood the network with unwanted traffic which generate network congestion and eventually crashing the servers in turn generate large number of incidents, The number of incidents could be overwhelming during attack and correctly identifying the source of the attack and categorizing the type of the attack is the most crucial step of troubleshooting, However if we can predict proactively an ongoing attack and also what is the subcategory of the attack we are facing. We know that few types of attacks flood the network with overwhelming alarms so we can be better prepared and instead of going through all the issues at the same time we can concentrate in solving the source of the attack which in turns will resolve all other alarms.\n",
    "\n",
    "For most of the attacks identifying the subcategory of the attack is very difficult because it involves a number of steps starting with login into devices, checking the running configuration and tracing the source of the issue at each hope etc which is very time consuming as a network engineer doesn't know the attack subcategory hence all the checks had to be performed for correctly classifying the type of attack, However if the network engineer can identify an ongoing attack and the attack subcategory proactively then he can perform specific checks to confirm the type of attack and immediately work to resolve the issues  and in turn will save the resolution time and network availability time.\n"
   ]
  },
  {
   "cell_type": "markdown",
   "metadata": {},
   "source": [
    "### Business constraints"
   ]
  },
  {
   "cell_type": "markdown",
   "metadata": {},
   "source": [
    "\n",
    "Mostly the cost of mis-classification is high as misclassification will lead to more time for incident resolution so we would like to have less False Positives in trade off to have more False Negatives. Meaning getting a False Positive is very costly, and a False Negative is not as much. Low time constraints as we can’t compromise with mis-classification because misclassification will lead to further delay in incident resolution, however we are trying to reduce the resolution time hence Model should not be much time consuming."
   ]
  },
  {
   "cell_type": "code",
   "execution_count": null,
   "metadata": {},
   "outputs": [],
   "source": [
    "\n",
    "%matplotlib inline\n",
    "import warnings\n",
    "warnings.filterwarnings(\"ignore\")\n",
    "\n",
    "import pandas as pd\n",
    "import numpy as np\n",
    "\n",
    "import matplotlib.pyplot as plt\n",
    "import seaborn as sns\n",
    "from sklearn.feature_extraction.text import TfidfVectorizer\n",
    "from sklearn.feature_extraction.text import CountVectorizer\n",
    "from sklearn.model_selection import train_test_split\n",
    "import re\n",
    "import pickle\n",
    "\n",
    "from tqdm import tqdm\n",
    "import os\n",
    "from sklearn.metrics import classification_report\n",
    "from sklearn.metrics import precision_score\n",
    "from sklearn.metrics import confusion_matrix\n",
    "from xgboost import XGBClassifier\n",
    "from sklearn.model_selection import RandomizedSearchCV\n",
    "from sklearn.tree import DecisionTreeClassifier\n",
    "from sklearn.calibration import CalibratedClassifierCV\n",
    "from sklearn.neighbors import KNeighborsClassifier\n",
    "from sklearn.model_selection import train_test_split\n",
    "from sklearn.linear_model import LogisticRegression\n",
    "from sklearn.ensemble import RandomForestClassifier\n",
    "import math\n",
    "from sklearn.naive_bayes import GaussianNB\n",
    "from sklearn.naive_bayes import BernoulliNB\n",
    "from sklearn.linear_model import SGDClassifier\n",
    "from scipy.stats import randint as sp_randint\n",
    "from scipy.stats import uniform\n",
    "from sklearn.preprocessing import LabelEncoder\n",
    "\n",
    "from flask import Flask, jsonify, request\n",
    "import joblib\n",
    "\n"
   ]
  },
  {
   "cell_type": "code",
   "execution_count": 2,
   "metadata": {},
   "outputs": [],
   "source": [
    "def plot_confusion_matrix(cm, classes,\n",
    "                          normalize=False,\n",
    "                          title='Confusion matrix',\n",
    "                          cmap=plt.cm.Blues):\n",
    "    \"\"\"\n",
    "    This function prints and plots the confusion matrix.\n",
    "    Normalization can be applied by setting `normalize=True`.\n",
    "    \"\"\"\n",
    "    import itertools\n",
    "    if normalize:\n",
    "        cm = cm.astype('float') / cm.sum(axis=1)[:, np.newaxis]\n",
    "        print(\"Normalized confusion matrix\")\n",
    "    else:\n",
    "        print('Confusion matrix, without normalization')\n",
    "\n",
    "    print(cm)\n",
    "\n",
    "    plt.imshow(cm, interpolation='nearest', cmap=cmap)\n",
    "    plt.title(title)\n",
    "    plt.colorbar()\n",
    "    tick_marks = np.arange(len(classes))\n",
    "    plt.xticks(tick_marks, classes, rotation=45)\n",
    "    plt.yticks(tick_marks, classes)\n",
    "\n",
    "    fmt = '.2f' if normalize else 'd'\n",
    "    thresh = cm.max() / 2.\n",
    "    for i, j in itertools.product(range(cm.shape[0]), range(cm.shape[1])):\n",
    "        plt.text(j, i, format(cm[i, j], fmt),\n",
    "                 horizontalalignment=\"center\",\n",
    "                 color=\"white\" if cm[i, j] > thresh else \"black\")\n",
    "\n",
    "    plt.ylabel('True label')\n",
    "    plt.xlabel('Predicted label')\n",
    "    plt.tight_layout()"
   ]
  },
  {
   "cell_type": "code",
   "execution_count": 3,
   "metadata": {},
   "outputs": [
    {
     "data": {
      "text/html": [
       "<div>\n",
       "<style scoped>\n",
       "    .dataframe tbody tr th:only-of-type {\n",
       "        vertical-align: middle;\n",
       "    }\n",
       "\n",
       "    .dataframe tbody tr th {\n",
       "        vertical-align: top;\n",
       "    }\n",
       "\n",
       "    .dataframe thead th {\n",
       "        text-align: right;\n",
       "    }\n",
       "</style>\n",
       "<table border=\"1\" class=\"dataframe\">\n",
       "  <thead>\n",
       "    <tr style=\"text-align: right;\">\n",
       "      <th></th>\n",
       "      <th>SRC_ADD</th>\n",
       "      <th>DES_ADD</th>\n",
       "      <th>PKT_ID</th>\n",
       "      <th>FROM_NODE</th>\n",
       "      <th>TO_NODE</th>\n",
       "      <th>PKT_TYPE</th>\n",
       "      <th>PKT_SIZE</th>\n",
       "      <th>FLAGS</th>\n",
       "      <th>FID</th>\n",
       "      <th>SEQ_NUMBER</th>\n",
       "      <th>...</th>\n",
       "      <th>PKT_RATE</th>\n",
       "      <th>BYTE_RATE</th>\n",
       "      <th>PKT_AVG_SIZE</th>\n",
       "      <th>UTILIZATION</th>\n",
       "      <th>PKT_DELAY</th>\n",
       "      <th>PKT_SEND_TIME</th>\n",
       "      <th>PKT_RESEVED_TIME</th>\n",
       "      <th>FIRST_PKT_SENT</th>\n",
       "      <th>LAST_PKT_RESEVED</th>\n",
       "      <th>PKT_CLASS</th>\n",
       "    </tr>\n",
       "  </thead>\n",
       "  <tbody>\n",
       "    <tr>\n",
       "      <th>0</th>\n",
       "      <td>3.00</td>\n",
       "      <td>24.30</td>\n",
       "      <td>389693.0</td>\n",
       "      <td>21.0</td>\n",
       "      <td>23.0</td>\n",
       "      <td>tcp</td>\n",
       "      <td>1540.0</td>\n",
       "      <td>0</td>\n",
       "      <td>4.0</td>\n",
       "      <td>11339.0</td>\n",
       "      <td>...</td>\n",
       "      <td>328.240918</td>\n",
       "      <td>505490.0</td>\n",
       "      <td>1540.0</td>\n",
       "      <td>0.236321</td>\n",
       "      <td>0.0</td>\n",
       "      <td>35.519662</td>\n",
       "      <td>35.550032</td>\n",
       "      <td>1.000000</td>\n",
       "      <td>50.021920</td>\n",
       "      <td>0</td>\n",
       "    </tr>\n",
       "    <tr>\n",
       "      <th>1</th>\n",
       "      <td>15.00</td>\n",
       "      <td>24.15</td>\n",
       "      <td>201196.0</td>\n",
       "      <td>23.0</td>\n",
       "      <td>24.0</td>\n",
       "      <td>tcp</td>\n",
       "      <td>1540.0</td>\n",
       "      <td>0</td>\n",
       "      <td>16.0</td>\n",
       "      <td>6274.0</td>\n",
       "      <td>...</td>\n",
       "      <td>328.205808</td>\n",
       "      <td>505437.0</td>\n",
       "      <td>1540.0</td>\n",
       "      <td>0.236337</td>\n",
       "      <td>0.0</td>\n",
       "      <td>20.156478</td>\n",
       "      <td>20.186848</td>\n",
       "      <td>1.000000</td>\n",
       "      <td>50.030211</td>\n",
       "      <td>0</td>\n",
       "    </tr>\n",
       "    <tr>\n",
       "      <th>2</th>\n",
       "      <td>24.15</td>\n",
       "      <td>15.00</td>\n",
       "      <td>61905.0</td>\n",
       "      <td>23.0</td>\n",
       "      <td>22.0</td>\n",
       "      <td>ack</td>\n",
       "      <td>55.0</td>\n",
       "      <td>0</td>\n",
       "      <td>16.0</td>\n",
       "      <td>1930.0</td>\n",
       "      <td>...</td>\n",
       "      <td>328.206042</td>\n",
       "      <td>18051.3</td>\n",
       "      <td>55.0</td>\n",
       "      <td>0.008441</td>\n",
       "      <td>0.0</td>\n",
       "      <td>7.039952</td>\n",
       "      <td>7.069962</td>\n",
       "      <td>1.030045</td>\n",
       "      <td>50.060221</td>\n",
       "      <td>1</td>\n",
       "    </tr>\n",
       "    <tr>\n",
       "      <th>3</th>\n",
       "      <td>24.90</td>\n",
       "      <td>9.00</td>\n",
       "      <td>443135.0</td>\n",
       "      <td>23.0</td>\n",
       "      <td>21.0</td>\n",
       "      <td>ack</td>\n",
       "      <td>55.0</td>\n",
       "      <td>0</td>\n",
       "      <td>10.0</td>\n",
       "      <td>12670.0</td>\n",
       "      <td>...</td>\n",
       "      <td>328.064183</td>\n",
       "      <td>18043.5</td>\n",
       "      <td>55.0</td>\n",
       "      <td>0.008437</td>\n",
       "      <td>0.0</td>\n",
       "      <td>39.617967</td>\n",
       "      <td>39.647976</td>\n",
       "      <td>1.030058</td>\n",
       "      <td>50.060098</td>\n",
       "      <td>0</td>\n",
       "    </tr>\n",
       "    <tr>\n",
       "      <th>4</th>\n",
       "      <td>24.80</td>\n",
       "      <td>8.00</td>\n",
       "      <td>157335.0</td>\n",
       "      <td>23.0</td>\n",
       "      <td>21.0</td>\n",
       "      <td>ack</td>\n",
       "      <td>55.0</td>\n",
       "      <td>0</td>\n",
       "      <td>9.0</td>\n",
       "      <td>4901.0</td>\n",
       "      <td>...</td>\n",
       "      <td>328.113525</td>\n",
       "      <td>18046.2</td>\n",
       "      <td>55.0</td>\n",
       "      <td>0.008438</td>\n",
       "      <td>0.0</td>\n",
       "      <td>16.029803</td>\n",
       "      <td>16.059813</td>\n",
       "      <td>1.030054</td>\n",
       "      <td>50.061864</td>\n",
       "      <td>0</td>\n",
       "    </tr>\n",
       "  </tbody>\n",
       "</table>\n",
       "<p>5 rows × 28 columns</p>\n",
       "</div>"
      ],
      "text/plain": [
       "   SRC_ADD  DES_ADD    PKT_ID  FROM_NODE  TO_NODE PKT_TYPE  PKT_SIZE  FLAGS  \\\n",
       "0     3.00    24.30  389693.0       21.0     23.0      tcp    1540.0      0   \n",
       "1    15.00    24.15  201196.0       23.0     24.0      tcp    1540.0      0   \n",
       "2    24.15    15.00   61905.0       23.0     22.0      ack      55.0      0   \n",
       "3    24.90     9.00  443135.0       23.0     21.0      ack      55.0      0   \n",
       "4    24.80     8.00  157335.0       23.0     21.0      ack      55.0      0   \n",
       "\n",
       "    FID  SEQ_NUMBER  ...    PKT_RATE  BYTE_RATE PKT_AVG_SIZE UTILIZATION  \\\n",
       "0   4.0     11339.0  ...  328.240918   505490.0       1540.0    0.236321   \n",
       "1  16.0      6274.0  ...  328.205808   505437.0       1540.0    0.236337   \n",
       "2  16.0      1930.0  ...  328.206042    18051.3         55.0    0.008441   \n",
       "3  10.0     12670.0  ...  328.064183    18043.5         55.0    0.008437   \n",
       "4   9.0      4901.0  ...  328.113525    18046.2         55.0    0.008438   \n",
       "\n",
       "   PKT_DELAY  PKT_SEND_TIME  PKT_RESEVED_TIME  FIRST_PKT_SENT  \\\n",
       "0        0.0      35.519662         35.550032        1.000000   \n",
       "1        0.0      20.156478         20.186848        1.000000   \n",
       "2        0.0       7.039952          7.069962        1.030045   \n",
       "3        0.0      39.617967         39.647976        1.030058   \n",
       "4        0.0      16.029803         16.059813        1.030054   \n",
       "\n",
       "   LAST_PKT_RESEVED  PKT_CLASS  \n",
       "0         50.021920          0  \n",
       "1         50.030211          0  \n",
       "2         50.060221          1  \n",
       "3         50.060098          0  \n",
       "4         50.061864          0  \n",
       "\n",
       "[5 rows x 28 columns]"
      ]
     },
     "execution_count": 3,
     "metadata": {},
     "output_type": "execute_result"
    }
   ],
   "source": [
    "df=pd.read_csv(\"Processed_df.csv\")\n",
    "df.head()"
   ]
  },
  {
   "cell_type": "code",
   "execution_count": 4,
   "metadata": {},
   "outputs": [
    {
     "data": {
      "text/html": [
       "<div>\n",
       "<style scoped>\n",
       "    .dataframe tbody tr th:only-of-type {\n",
       "        vertical-align: middle;\n",
       "    }\n",
       "\n",
       "    .dataframe tbody tr th {\n",
       "        vertical-align: top;\n",
       "    }\n",
       "\n",
       "    .dataframe thead th {\n",
       "        text-align: right;\n",
       "    }\n",
       "</style>\n",
       "<table border=\"1\" class=\"dataframe\">\n",
       "  <thead>\n",
       "    <tr style=\"text-align: right;\">\n",
       "      <th></th>\n",
       "      <th>SRC_ADD</th>\n",
       "      <th>DES_ADD</th>\n",
       "      <th>PKT_ID</th>\n",
       "      <th>FROM_NODE</th>\n",
       "      <th>TO_NODE</th>\n",
       "      <th>PKT_TYPE</th>\n",
       "      <th>PKT_SIZE</th>\n",
       "      <th>FLAGS</th>\n",
       "      <th>FID</th>\n",
       "      <th>SEQ_NUMBER</th>\n",
       "      <th>...</th>\n",
       "      <th>PKT_DELAY_NODE</th>\n",
       "      <th>PKT_RATE</th>\n",
       "      <th>BYTE_RATE</th>\n",
       "      <th>PKT_AVG_SIZE</th>\n",
       "      <th>UTILIZATION</th>\n",
       "      <th>PKT_DELAY</th>\n",
       "      <th>PKT_SEND_TIME</th>\n",
       "      <th>PKT_RESEVED_TIME</th>\n",
       "      <th>FIRST_PKT_SENT</th>\n",
       "      <th>LAST_PKT_RESEVED</th>\n",
       "    </tr>\n",
       "  </thead>\n",
       "  <tbody>\n",
       "    <tr>\n",
       "      <th>0</th>\n",
       "      <td>3.0</td>\n",
       "      <td>24.3</td>\n",
       "      <td>389693.0</td>\n",
       "      <td>21.0</td>\n",
       "      <td>23.0</td>\n",
       "      <td>tcp</td>\n",
       "      <td>1540.0</td>\n",
       "      <td>0</td>\n",
       "      <td>4.0</td>\n",
       "      <td>11339.0</td>\n",
       "      <td>...</td>\n",
       "      <td>0.0</td>\n",
       "      <td>328.240918</td>\n",
       "      <td>505490.0</td>\n",
       "      <td>1540.0</td>\n",
       "      <td>0.236321</td>\n",
       "      <td>0.0</td>\n",
       "      <td>35.519662</td>\n",
       "      <td>35.550032</td>\n",
       "      <td>1.0</td>\n",
       "      <td>50.02192</td>\n",
       "    </tr>\n",
       "  </tbody>\n",
       "</table>\n",
       "<p>1 rows × 27 columns</p>\n",
       "</div>"
      ],
      "text/plain": [
       "   SRC_ADD  DES_ADD    PKT_ID  FROM_NODE  TO_NODE PKT_TYPE  PKT_SIZE  FLAGS  \\\n",
       "0      3.0     24.3  389693.0       21.0     23.0      tcp    1540.0      0   \n",
       "\n",
       "   FID  SEQ_NUMBER  ...  PKT_DELAY_NODE    PKT_RATE BYTE_RATE PKT_AVG_SIZE  \\\n",
       "0  4.0     11339.0  ...             0.0  328.240918  505490.0       1540.0   \n",
       "\n",
       "   UTILIZATION  PKT_DELAY  PKT_SEND_TIME  PKT_RESEVED_TIME  FIRST_PKT_SENT  \\\n",
       "0     0.236321        0.0      35.519662         35.550032             1.0   \n",
       "\n",
       "   LAST_PKT_RESEVED  \n",
       "0          50.02192  \n",
       "\n",
       "[1 rows x 27 columns]"
      ]
     },
     "execution_count": 4,
     "metadata": {},
     "output_type": "execute_result"
    }
   ],
   "source": [
    "y = df['PKT_CLASS'].values  # separated the class lable in Y\n",
    "X = df.drop(['PKT_CLASS'], axis=1)   # combined all the features into X\n",
    "X.head(1)"
   ]
  },
  {
   "cell_type": "code",
   "execution_count": null,
   "metadata": {},
   "outputs": [],
   "source": []
  },
  {
   "cell_type": "code",
   "execution_count": 5,
   "metadata": {},
   "outputs": [],
   "source": [
    "from sklearn.model_selection import train_test_split\n",
    "X_train, X_test, y_train, y_test = train_test_split(X, y, test_size=0.0002,shuffle=True,stratify=y )"
   ]
  },
  {
   "cell_type": "markdown",
   "metadata": {},
   "source": [
    "### Pretrained Models"
   ]
  },
  {
   "cell_type": "code",
   "execution_count": 6,
   "metadata": {},
   "outputs": [],
   "source": [
    "class_5_model = pickle.load(open('five_class_Model.pkl', 'rb'))\n",
    "loaded_model_3 = pickle.load(open('Pickle_RL_Model_3.pkl', 'rb'))\n",
    "loaded_model_2 = pickle.load(open('Pickle_RL_Model_2.pkl', 'rb'))\n",
    "loaded_model_1 = pickle.load(open('Pickle_RL_Model_1.pkl', 'rb'))"
   ]
  },
  {
   "cell_type": "markdown",
   "metadata": {},
   "source": [
    "### Pretrained Feature Engineering"
   ]
  },
  {
   "cell_type": "code",
   "execution_count": 7,
   "metadata": {},
   "outputs": [],
   "source": [
    "scale = pickle.load(open('Standard_scale.pkl', 'rb'))\n",
    "scale_1 = pickle.load(open('Standard_scale_1.pkl', 'rb'))\n",
    "scale_2 = pickle.load(open('Standard_scale_2.pkl', 'rb'))\n",
    "\n",
    "PKT_TYPE_LE = pickle.load(open('PKT_TYPE_LE.pkl', 'rb'))\n",
    "NODE_NAME_FROM_LE = pickle.load(open('NODE_NAME_FROM_LE.pkl', 'rb'))\n",
    "NODE_NAME_TO_LE = pickle.load(open('NODE_NAME_TO_LE.pkl', 'rb'))"
   ]
  },
  {
   "cell_type": "code",
   "execution_count": 8,
   "metadata": {},
   "outputs": [],
   "source": [
    "def binary_classification(a):\n",
    "    new_class=[]\n",
    "    for i in a:    \n",
    "        if i==0:\n",
    "            new_class.append(0)\n",
    "        else:\n",
    "            new_class.append(1)\n",
    "    return new_class"
   ]
  },
  {
   "cell_type": "code",
   "execution_count": 9,
   "metadata": {},
   "outputs": [],
   "source": [
    "def binary_attack(a):\n",
    "    new_class=[]\n",
    "    for i in a:    \n",
    "        if i==1:\n",
    "            new_class.append(0)\n",
    "        else:\n",
    "            new_class.append(1)\n",
    "    return new_class"
   ]
  },
  {
   "cell_type": "code",
   "execution_count": 10,
   "metadata": {},
   "outputs": [],
   "source": [
    "# https://stackoverflow.com/a/47091490/4084039\n",
    "import re\n",
    "\n",
    "def decontracted(phrase):\n",
    "    \n",
    "    phrase = re.sub(r\"\\'\", \"\", phrase)\n",
    "    phrase = re.sub(r\"^b\", \"\", phrase)\n",
    "    phrase = re.sub(r\"-\", \"_\", phrase)\n",
    "    \n",
    "    return phrase"
   ]
  },
  {
   "cell_type": "code",
   "execution_count": 11,
   "metadata": {},
   "outputs": [],
   "source": [
    "\n",
    "def preprocess_text(text_data):\n",
    "    preprocessed_text = []\n",
    "    # tqdm is for printing the status bar\n",
    "    for sentance in text_data:\n",
    "        sent = decontracted(str(sentance))\n",
    "        \n",
    "        preprocessed_text.append(sent.lower().strip())\n",
    "    return preprocessed_text"
   ]
  },
  {
   "cell_type": "code",
   "execution_count": 12,
   "metadata": {},
   "outputs": [],
   "source": [
    "all_columns=['SRC_ADD', 'DES_ADD', 'PKT_ID', 'FROM_NODE', 'TO_NODE', 'PKT_TYPE',\n",
    "       'PKT_SIZE', 'FLAGS', 'FID', 'SEQ_NUMBER', 'NUMBER_OF_PKT',\n",
    "       'NUMBER_OF_BYTE', 'NODE_NAME_FROM', 'NODE_NAME_TO', 'PKT_IN', 'PKT_OUT',\n",
    "       'PKT_R', 'PKT_DELAY_NODE', 'PKT_RATE', 'BYTE_RATE', 'PKT_AVG_SIZE',\n",
    "       'UTILIZATION', 'PKT_DELAY', 'PKT_SEND_TIME', 'PKT_RESEVED_TIME',\n",
    "       'FIRST_PKT_SENT', 'LAST_PKT_RESEVED']"
   ]
  },
  {
   "cell_type": "code",
   "execution_count": null,
   "metadata": {},
   "outputs": [],
   "source": []
  },
  {
   "cell_type": "code",
   "execution_count": 97,
   "metadata": {},
   "outputs": [],
   "source": [
    "\n",
    "def function_1 (*args,b=all_columns):\n",
    "    new={b[i]:args[i] for i in range(len(b))}\n",
    "    df_new=pd.DataFrame((new),index =[1])\n",
    "    df_new['NODE_NAME_FROM'] = preprocess_text(df_new['NODE_NAME_FROM'].values)\n",
    "    df_new['NODE_NAME_TO'] = preprocess_text(df_new['NODE_NAME_TO'].values)\n",
    "    df_new['PKT_TYPE'] = preprocess_text(df_new['PKT_TYPE'].values)\n",
    "    \n",
    "    df_new['PKT_TYPE_encode']=PKT_TYPE_LE.transform(df_new['PKT_TYPE'])\n",
    "    df_new['NODE_NAME_FROM_encode']=NODE_NAME_FROM_LE.transform(df_new['NODE_NAME_FROM'])\n",
    "    df_new['NODE_NAME_TO_encode']=NODE_NAME_TO_LE.transform(df_new['NODE_NAME_TO'])\n",
    "    df_new = df_new.drop(['PKT_TYPE','NODE_NAME_FROM','NODE_NAME_TO','FLAGS'], axis=1)\n",
    "    \n",
    "    for i in range(df_new.shape[1]):\n",
    "        t=df_new.columns[i]\n",
    "        new_val=scale[i].transform(df_new.values[0][i].reshape(1, -1))\n",
    "        df_new[t]=new_val\n",
    "        \n",
    "    result=loaded_model_1.predict(df_new)\n",
    "    if result == 0:\n",
    "        return 'Normal traffic'\n",
    "    \n",
    "    else:\n",
    "        df_new1=pd.DataFrame((new),index =[1])\n",
    "        df_new1['NODE_NAME_FROM'] = preprocess_text(df_new1['NODE_NAME_FROM'].values)\n",
    "        df_new1['NODE_NAME_TO'] = preprocess_text(df_new1['NODE_NAME_TO'].values)\n",
    "        df_new1['PKT_TYPE'] = preprocess_text(df_new1['PKT_TYPE'].values)\n",
    "    \n",
    "        df_new1['PKT_TYPE_encode']=PKT_TYPE_LE.transform(df_new1['PKT_TYPE'])\n",
    "        df_new1['NODE_NAME_FROM_encode']=NODE_NAME_FROM_LE.transform(df_new1['NODE_NAME_FROM'])\n",
    "        df_new1['NODE_NAME_TO_encode']=NODE_NAME_TO_LE.transform(df_new1['NODE_NAME_TO'])\n",
    "        df_new1 = df_new1.drop(['PKT_TYPE','NODE_NAME_FROM','NODE_NAME_TO','FLAGS'], axis=1)\n",
    "    \n",
    "        for i in range(df_new1.shape[1]):\n",
    "            t=df_new1.columns[i]\n",
    "            new_val=scale_1[i].transform(df_new1.values[0][i].reshape(1, -1))\n",
    "            df_new1[t]=new_val\n",
    "        result1=loaded_model_2.predict(df_new1)\n",
    "        if result1== 0:\n",
    "            return 'UDP-Flood Attack'\n",
    "        else:\n",
    "            df_new2=pd.DataFrame((new),index =[1])\n",
    "            df_new2['NODE_NAME_FROM'] = preprocess_text(df_new2['NODE_NAME_FROM'].values)\n",
    "            df_new2['NODE_NAME_TO'] = preprocess_text(df_new2['NODE_NAME_TO'].values)\n",
    "            df_new2['PKT_TYPE'] = preprocess_text(df_new2['PKT_TYPE'].values)\n",
    "    \n",
    "            df_new2['PKT_TYPE_encode']=PKT_TYPE_LE.transform(df_new2['PKT_TYPE'])\n",
    "            df_new2['NODE_NAME_FROM_encode']=NODE_NAME_FROM_LE.transform(df_new2['NODE_NAME_FROM'])\n",
    "            df_new2['NODE_NAME_TO_encode']=NODE_NAME_TO_LE.transform(df_new2['NODE_NAME_TO'])\n",
    "            df_new2 = df_new2.drop(['PKT_TYPE','NODE_NAME_FROM','NODE_NAME_TO','FLAGS'], axis=1)\n",
    "    \n",
    "            for i in range(df_new2.shape[1]):\n",
    "                t=df_new2.columns[i]\n",
    "                new_val=scale_2[i].transform(df_new2.values[0][i].reshape(1, -1))\n",
    "                df_new2[t]=new_val\n",
    "            result2=loaded_model_3.predict(df_new2)\n",
    "            if result2 == 2:\n",
    "                return 'Smurf Attack'\n",
    "            elif result2 ==3:\n",
    "                return 'SIDDOS Attack'\n",
    "            elif result2 == 4:\n",
    "                return 'HTTP-FLOOD Attack'    \n",
    "\n"
   ]
  },
  {
   "cell_type": "code",
   "execution_count": 98,
   "metadata": {},
   "outputs": [
    {
     "name": "stderr",
     "output_type": "stream",
     "text": [
      "[Parallel(n_jobs=8)]: Using backend ThreadingBackend with 8 concurrent workers.\n",
      "[Parallel(n_jobs=8)]: Done  25 tasks      | elapsed:    0.0s\n",
      "[Parallel(n_jobs=8)]: Done  50 out of  50 | elapsed:    0.0s finished\n"
     ]
    }
   ],
   "source": [
    "predction=function_1(7.0, 24.7, 221770.0, 23.0, 24.0, 'tcp', 1540.0, 0, 8.0, 6914.0,\n",
    "        16090.0, 24778600.0, 'router', 'server1', 22.114279999999997,\n",
    "        22.114279999999997, 22.124403, 0.0, 328.167486, 505378.0, 1540.0,\n",
    "        0.23630700000000002, 0.0, 22.094034, 22.124403, 1.0,\n",
    "        50.029841999999995)"
   ]
  },
  {
   "cell_type": "code",
   "execution_count": 99,
   "metadata": {},
   "outputs": [
    {
     "name": "stdout",
     "output_type": "stream",
     "text": [
      "Traffic type :  Normal traffic\n"
     ]
    }
   ],
   "source": [
    "print('Traffic type : ',predction)"
   ]
  },
  {
   "cell_type": "code",
   "execution_count": null,
   "metadata": {},
   "outputs": [],
   "source": []
  },
  {
   "cell_type": "code",
   "execution_count": 100,
   "metadata": {},
   "outputs": [],
   "source": [
    "def function_2 (x,y):\n",
    "    df=pd.DataFrame(x,columns=all_columns)\n",
    "    df['NODE_NAME_FROM'] = preprocess_text(df['NODE_NAME_FROM'].values)\n",
    "    df['NODE_NAME_TO'] = preprocess_text(df['NODE_NAME_TO'].values)\n",
    "    df['PKT_TYPE'] = preprocess_text(df['PKT_TYPE'].values)\n",
    "    \n",
    "    \n",
    "    \n",
    "    df['PKT_TYPE_encode']=PKT_TYPE_LE.transform(df['PKT_TYPE'])\n",
    "    df['NODE_NAME_FROM_encode']=NODE_NAME_FROM_LE.transform(df['NODE_NAME_FROM'])\n",
    "    df['NODE_NAME_TO_encode']=NODE_NAME_TO_LE.transform(df['NODE_NAME_TO'])\n",
    "    df = df.drop(['PKT_TYPE','NODE_NAME_FROM','NODE_NAME_TO','FLAGS'], axis=1)\n",
    "    \n",
    "    for i in range(df.shape[1]):\n",
    "        t=df.columns[i]\n",
    "        new_val=scale[i].transform(df[t].values.reshape(-1, 1))\n",
    "        df[t]=new_val\n",
    "    \n",
    "    df['class_label']=y\n",
    "    df['new_class']=binary_classification(df['class_label'])\n",
    "    df_new_y1=df['new_class'].values\n",
    "    df_new_X1 = df.drop(['class_label','new_class'], axis=1)\n",
    "    Y_prediction1=loaded_model_1.predict(df_new_X1)\n",
    "\n",
    "    \n",
    "    df_new=pd.DataFrame(x,columns=all_columns)\n",
    "    df_new['NODE_NAME_FROM'] = preprocess_text(df_new['NODE_NAME_FROM'].values)\n",
    "    df_new['NODE_NAME_TO'] = preprocess_text(df_new['NODE_NAME_TO'].values)\n",
    "    df_new['PKT_TYPE'] = preprocess_text(df_new['PKT_TYPE'].values)\n",
    "   \n",
    "    df_new['PKT_TYPE_encode']=PKT_TYPE_LE.transform(df_new['PKT_TYPE'])\n",
    "    df_new['NODE_NAME_FROM_encode']=NODE_NAME_FROM_LE.transform(df_new['NODE_NAME_FROM'])\n",
    "    df_new['NODE_NAME_TO_encode']=NODE_NAME_TO_LE.transform(df_new['NODE_NAME_TO'])\n",
    "    df_new = df_new.drop(['PKT_TYPE','NODE_NAME_FROM','NODE_NAME_TO','FLAGS'], axis=1)\n",
    "    df_new['class_label']=y\n",
    "    Attack_df=df_new[df_new['class_label']!=0]\n",
    "  \n",
    "    \n",
    "   \n",
    "    Attack_df['UDP_target']=binary_attack(Attack_df['class_label'].values)\n",
    "    Attack_df_y2 = Attack_df['UDP_target'].values\n",
    "    Attack_df_x2 = Attack_df.drop(['class_label','UDP_target'], axis=1)\n",
    "    \n",
    "    for i in range(Attack_df_x2.shape[1]):\n",
    "        t=Attack_df_x2.columns[i]\n",
    "        new_val=scale_1[i].transform(Attack_df_x2[t].values.reshape(-1, 1))\n",
    "        Attack_df_x2[t]=new_val\n",
    "        \n",
    "    Attack_df_x2     \n",
    "    Y_prediction2=loaded_model_2.predict(Attack_df_x2)\n",
    "    \n",
    "    \n",
    "    \n",
    "    df_new1=pd.DataFrame(x,columns=all_columns)\n",
    "    df_new1['NODE_NAME_FROM'] = preprocess_text(df_new1['NODE_NAME_FROM'].values)\n",
    "    df_new1['NODE_NAME_TO'] = preprocess_text(df_new1['NODE_NAME_TO'].values)\n",
    "    df_new1['PKT_TYPE'] = preprocess_text(df_new1['PKT_TYPE'].values)\n",
    "   \n",
    "    df_new1['PKT_TYPE_encode']=PKT_TYPE_LE.transform(df_new1['PKT_TYPE'])\n",
    "    df_new1['NODE_NAME_FROM_encode']=NODE_NAME_FROM_LE.transform(df_new1['NODE_NAME_FROM'])\n",
    "    df_new1['NODE_NAME_TO_encode']=NODE_NAME_TO_LE.transform(df_new1['NODE_NAME_TO'])\n",
    "    df_new1 = df_new1.drop(['PKT_TYPE','NODE_NAME_FROM','NODE_NAME_TO','FLAGS'], axis=1)\n",
    "    df_new1['class_label']=y\n",
    "    new_Attack_df=df_new1[df_new1['class_label']>1]\n",
    "    new_Attack_df_y = new_Attack_df['class_label'].values\n",
    "    new_Attack_df_x3 = new_Attack_df.drop(['class_label'], axis=1)\n",
    "    for i in range(new_Attack_df_x3.shape[1]):\n",
    "        t=new_Attack_df_x3.columns[i]\n",
    "        new_val=scale_2[i].transform(new_Attack_df_x3[t].values.reshape(-1, 1))\n",
    "        new_Attack_df_x3[t]=new_val\n",
    "    Y_prediction3=loaded_model_3.predict(new_Attack_df_x3)\n",
    "    \n",
    "    \n",
    "    return      Y_prediction1,df_new_y1,Y_prediction2,Attack_df_y2,Y_prediction3,new_Attack_df_y\n"
   ]
  },
  {
   "cell_type": "code",
   "execution_count": 101,
   "metadata": {
    "scrolled": true
   },
   "outputs": [
    {
     "name": "stderr",
     "output_type": "stream",
     "text": [
      "[Parallel(n_jobs=8)]: Using backend ThreadingBackend with 8 concurrent workers.\n",
      "[Parallel(n_jobs=8)]: Done  25 tasks      | elapsed:    6.2s\n",
      "[Parallel(n_jobs=8)]: Done  50 out of  50 | elapsed:   10.1s finished\n",
      "[Parallel(n_jobs=8)]: Using backend ThreadingBackend with 8 concurrent workers.\n",
      "[Parallel(n_jobs=8)]: Done  34 tasks      | elapsed:    0.1s\n",
      "[Parallel(n_jobs=8)]: Done  70 out of  70 | elapsed:    0.3s finished\n",
      "[Parallel(n_jobs=8)]: Using backend ThreadingBackend with 8 concurrent workers.\n",
      "[Parallel(n_jobs=8)]: Done  34 tasks      | elapsed:    1.1s\n",
      "[Parallel(n_jobs=8)]: Done  80 out of  80 | elapsed:    1.1s finished\n"
     ]
    }
   ],
   "source": [
    "Y_prediction1,df_new_y1,Y_prediction2,Attack_df_y2,Y_prediction3,new_Attack_df_y=function_2(X_train,y_train)\n"
   ]
  },
  {
   "cell_type": "code",
   "execution_count": 104,
   "metadata": {},
   "outputs": [
    {
     "name": "stdout",
     "output_type": "stream",
     "text": [
      "Confusion matrix, without normalization\n",
      "[[1933420    2151]\n",
      " [  27990  196674]]\n"
     ]
    },
    {
     "data": {
      "image/png": "[encoded data removed]",
      "text/plain": [
       "<Figure size 432x288 with 2 Axes>"
      ]
     },
     "metadata": {
      "needs_background": "light"
     },
     "output_type": "display_data"
    }
   ],
   "source": [
    "cnf_matrix = confusion_matrix(df_new_y1, Y_prediction1,labels=[0,1])\n",
    "np.set_printoptions(precision=2)\n",
    "\n",
    "# Plot non-normalized confusion matrix\n",
    "plt.figure()\n",
    "plot_confusion_matrix(cnf_matrix, classes=[0,1],\n",
    "                      title='Confusion matrix')"
   ]
  },
  {
   "cell_type": "code",
   "execution_count": 105,
   "metadata": {},
   "outputs": [
    {
     "name": "stdout",
     "output_type": "stream",
     "text": [
      "              precision    recall  f1-score   support\n",
      "\n",
      "           0       0.99      1.00      0.99   1935571\n",
      "           1       0.99      0.88      0.93    224664\n",
      "\n",
      "    accuracy                           0.99   2160235\n",
      "   macro avg       0.99      0.94      0.96   2160235\n",
      "weighted avg       0.99      0.99      0.99   2160235\n",
      "\n"
     ]
    }
   ],
   "source": [
    "print(classification_report(df_new_y1, Y_prediction1))"
   ]
  },
  {
   "cell_type": "code",
   "execution_count": null,
   "metadata": {},
   "outputs": [],
   "source": []
  },
  {
   "cell_type": "code",
   "execution_count": 106,
   "metadata": {},
   "outputs": [
    {
     "name": "stdout",
     "output_type": "stream",
     "text": [
      "Confusion matrix, without normalization\n",
      "[[200381    923]\n",
      " [  6759  16601]]\n"
     ]
    },
    {
     "data": {
      "image/png": "[encoded data removed]",
      "text/plain": [
       "<Figure size 432x288 with 2 Axes>"
      ]
     },
     "metadata": {
      "needs_background": "light"
     },
     "output_type": "display_data"
    }
   ],
   "source": [
    "cnf_matrix = confusion_matrix(Attack_df_y2, Y_prediction2,labels=[0,1])\n",
    "np.set_printoptions(precision=2)\n",
    "\n",
    "# Plot non-normalized confusion matrix\n",
    "plt.figure()\n",
    "plot_confusion_matrix(cnf_matrix, classes=[0,1],\n",
    "                      title='Confusion matrix')"
   ]
  },
  {
   "cell_type": "code",
   "execution_count": 107,
   "metadata": {},
   "outputs": [
    {
     "name": "stdout",
     "output_type": "stream",
     "text": [
      "              precision    recall  f1-score   support\n",
      "\n",
      "           0       0.97      1.00      0.98    201304\n",
      "           1       0.95      0.71      0.81     23360\n",
      "\n",
      "    accuracy                           0.97    224664\n",
      "   macro avg       0.96      0.85      0.90    224664\n",
      "weighted avg       0.97      0.97      0.96    224664\n",
      "\n"
     ]
    }
   ],
   "source": [
    "print(classification_report(Attack_df_y2, Y_prediction2))"
   ]
  },
  {
   "cell_type": "code",
   "execution_count": null,
   "metadata": {},
   "outputs": [],
   "source": []
  },
  {
   "cell_type": "code",
   "execution_count": 108,
   "metadata": {},
   "outputs": [
    {
     "name": "stdout",
     "output_type": "stream",
     "text": [
      "Confusion matrix, without normalization\n",
      "[[12198   345    44]\n",
      " [  357  6307     0]\n",
      " [    1   218  3890]]\n"
     ]
    },
    {
     "data": {
      "image/png": "[encoded data removed]",
      "text/plain": [
       "<Figure size 432x288 with 2 Axes>"
      ]
     },
     "metadata": {
      "needs_background": "light"
     },
     "output_type": "display_data"
    }
   ],
   "source": [
    "cnf_matrix = confusion_matrix(new_Attack_df_y, Y_prediction3,labels=[2,3,4])\n",
    "np.set_printoptions(precision=2)\n",
    "\n",
    "# Plot non-normalized confusion matrix\n",
    "plt.figure()\n",
    "plot_confusion_matrix(cnf_matrix, classes=[2,3,4],\n",
    "                      title='Confusion matrix')"
   ]
  },
  {
   "cell_type": "code",
   "execution_count": 109,
   "metadata": {},
   "outputs": [
    {
     "name": "stdout",
     "output_type": "stream",
     "text": [
      "              precision    recall  f1-score   support\n",
      "\n",
      "           2       0.97      0.97      0.97     12587\n",
      "           3       0.92      0.95      0.93      6664\n",
      "           4       0.99      0.95      0.97      4109\n",
      "\n",
      "    accuracy                           0.96     23360\n",
      "   macro avg       0.96      0.95      0.96     23360\n",
      "weighted avg       0.96      0.96      0.96     23360\n",
      "\n"
     ]
    }
   ],
   "source": [
    "print(classification_report(new_Attack_df_y, Y_prediction3))"
   ]
  },
  {
   "cell_type": "code",
   "execution_count": 104,
   "metadata": {},
   "outputs": [
    {
     "name": "stdout",
     "output_type": "stream",
     "text": [
      "+------------+-----------------------------------------------------+-----------------+--------------+------+\n",
      "|   Model    |                      Best Model                     | precision macro | recall macro |  F1  |\n",
      "+------------+-----------------------------------------------------+-----------------+--------------+------+\n",
      "| Ensembel-1 |  RF with 1st binary classification on 1st test set  |       0.99      |     0.94     | 0.96 |\n",
      "| Ensembel-2 |  RF with 2nd binary classification on 2nd test set  |       0.96      |     0.85     | 0.86 |\n",
      "| Ensembel-3 | RF with last 3-class classification on 3rd test set |       0.96      |     0.95     | 0.96 |\n",
      "+------------+-----------------------------------------------------+-----------------+--------------+------+\n"
     ]
    }
   ],
   "source": [
    "from prettytable import PrettyTable\n",
    "\n",
    "x = PrettyTable()\n",
    "x.field_names = [\"Model\", \"Best Model\", \"precision macro\",\"recall macro\",\"F1\"]\n",
    "\n",
    "\n",
    "x.add_row(['Ensembel-1','RF with 1st binary classification on 1st test set', 0.99,0.94,0.96]) \n",
    "\n",
    "x.add_row(['Ensembel-2','RF with 2nd binary classification on 2nd test set',  0.96,0.85,0.86]) \n",
    "\n",
    "x.add_row(['Ensembel-3','RF with last 3-class classification on 3rd test set', 0.96 ,0.95,0.96]) \n",
    "\n",
    "print(x)"
   ]
  },
  {
   "cell_type": "code",
   "execution_count": null,
   "metadata": {},
   "outputs": [],
   "source": []
  },
  {
   "cell_type": "code",
   "execution_count": null,
   "metadata": {},
   "outputs": [],
   "source": []
  },
  {
   "cell_type": "code",
   "execution_count": null,
   "metadata": {},
   "outputs": [],
   "source": []
  },
  {
   "cell_type": "code",
   "execution_count": null,
   "metadata": {},
   "outputs": [],
   "source": []
  }
 ],
 "metadata": {
  "kernelspec": {
   "display_name": "Python 3",
   "language": "python",
   "name": "python3"
  },
  "language_info": {
   "codemirror_mode": {
    "name": "ipython",
    "version": 3
   },
   "file_extension": ".py",
   "mimetype": "text/x-python",
   "name": "python",
   "nbconvert_exporter": "python",
   "pygments_lexer": "ipython3",
   "version": "3.7.6"
  }
 },
 "nbformat": 4,
 "nbformat_minor": 4
}
